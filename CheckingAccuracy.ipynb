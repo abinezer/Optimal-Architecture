{
 "cells": [
  {
   "cell_type": "code",
   "execution_count": 1,
   "metadata": {},
   "outputs": [],
   "source": [
    "import pandas as pd\n",
    "from sklearn.model_selection import train_test_split\n",
    "from sklearn.metrics import confusion_matrix, classification_report\n",
    "from sklearn.metrics import ConfusionMatrixDisplay\n",
    "from tensorflow import keras\n",
    "from tensorflow.keras import layers\n",
    "from tensorflow.keras.optimizers import Adam\n",
    "import matplotlib.pyplot as plt\n",
    "import numpy as np"
   ]
  },
  {
   "cell_type": "code",
   "execution_count": 2,
   "metadata": {},
   "outputs": [
    {
     "data": {
      "text/html": [
       "<div>\n",
       "<style scoped>\n",
       "    .dataframe tbody tr th:only-of-type {\n",
       "        vertical-align: middle;\n",
       "    }\n",
       "\n",
       "    .dataframe tbody tr th {\n",
       "        vertical-align: top;\n",
       "    }\n",
       "\n",
       "    .dataframe thead th {\n",
       "        text-align: right;\n",
       "    }\n",
       "</style>\n",
       "<table border=\"1\" class=\"dataframe\">\n",
       "  <thead>\n",
       "    <tr style=\"text-align: right;\">\n",
       "      <th></th>\n",
       "      <th>output</th>\n",
       "      <th>l1</th>\n",
       "      <th>l2</th>\n",
       "      <th>l3</th>\n",
       "      <th>l4</th>\n",
       "      <th>l5</th>\n",
       "      <th>l6</th>\n",
       "      <th>l7</th>\n",
       "      <th>l8</th>\n",
       "      <th>l9</th>\n",
       "      <th>l10</th>\n",
       "      <th>l11</th>\n",
       "      <th>l12</th>\n",
       "      <th>l13</th>\n",
       "    </tr>\n",
       "  </thead>\n",
       "  <tbody>\n",
       "    <tr>\n",
       "      <th>0</th>\n",
       "      <td>1</td>\n",
       "      <td>14.23</td>\n",
       "      <td>1.71</td>\n",
       "      <td>2.43</td>\n",
       "      <td>15.6</td>\n",
       "      <td>127</td>\n",
       "      <td>2.80</td>\n",
       "      <td>3.06</td>\n",
       "      <td>0.28</td>\n",
       "      <td>2.29</td>\n",
       "      <td>5.64</td>\n",
       "      <td>1.04</td>\n",
       "      <td>3.92</td>\n",
       "      <td>1065</td>\n",
       "    </tr>\n",
       "    <tr>\n",
       "      <th>1</th>\n",
       "      <td>1</td>\n",
       "      <td>13.20</td>\n",
       "      <td>1.78</td>\n",
       "      <td>2.14</td>\n",
       "      <td>11.2</td>\n",
       "      <td>100</td>\n",
       "      <td>2.65</td>\n",
       "      <td>2.76</td>\n",
       "      <td>0.26</td>\n",
       "      <td>1.28</td>\n",
       "      <td>4.38</td>\n",
       "      <td>1.05</td>\n",
       "      <td>3.40</td>\n",
       "      <td>1050</td>\n",
       "    </tr>\n",
       "    <tr>\n",
       "      <th>2</th>\n",
       "      <td>1</td>\n",
       "      <td>13.16</td>\n",
       "      <td>2.36</td>\n",
       "      <td>2.67</td>\n",
       "      <td>18.6</td>\n",
       "      <td>101</td>\n",
       "      <td>2.80</td>\n",
       "      <td>3.24</td>\n",
       "      <td>0.30</td>\n",
       "      <td>2.81</td>\n",
       "      <td>5.68</td>\n",
       "      <td>1.03</td>\n",
       "      <td>3.17</td>\n",
       "      <td>1185</td>\n",
       "    </tr>\n",
       "    <tr>\n",
       "      <th>3</th>\n",
       "      <td>1</td>\n",
       "      <td>14.37</td>\n",
       "      <td>1.95</td>\n",
       "      <td>2.50</td>\n",
       "      <td>16.8</td>\n",
       "      <td>113</td>\n",
       "      <td>3.85</td>\n",
       "      <td>3.49</td>\n",
       "      <td>0.24</td>\n",
       "      <td>2.18</td>\n",
       "      <td>7.80</td>\n",
       "      <td>0.86</td>\n",
       "      <td>3.45</td>\n",
       "      <td>1480</td>\n",
       "    </tr>\n",
       "    <tr>\n",
       "      <th>4</th>\n",
       "      <td>1</td>\n",
       "      <td>13.24</td>\n",
       "      <td>2.59</td>\n",
       "      <td>2.87</td>\n",
       "      <td>21.0</td>\n",
       "      <td>118</td>\n",
       "      <td>2.80</td>\n",
       "      <td>2.69</td>\n",
       "      <td>0.39</td>\n",
       "      <td>1.82</td>\n",
       "      <td>4.32</td>\n",
       "      <td>1.04</td>\n",
       "      <td>2.93</td>\n",
       "      <td>735</td>\n",
       "    </tr>\n",
       "  </tbody>\n",
       "</table>\n",
       "</div>"
      ],
      "text/plain": [
       "   output     l1    l2    l3    l4   l5    l6    l7    l8    l9   l10   l11  \\\n",
       "0       1  14.23  1.71  2.43  15.6  127  2.80  3.06  0.28  2.29  5.64  1.04   \n",
       "1       1  13.20  1.78  2.14  11.2  100  2.65  2.76  0.26  1.28  4.38  1.05   \n",
       "2       1  13.16  2.36  2.67  18.6  101  2.80  3.24  0.30  2.81  5.68  1.03   \n",
       "3       1  14.37  1.95  2.50  16.8  113  3.85  3.49  0.24  2.18  7.80  0.86   \n",
       "4       1  13.24  2.59  2.87  21.0  118  2.80  2.69  0.39  1.82  4.32  1.04   \n",
       "\n",
       "    l12   l13  \n",
       "0  3.92  1065  \n",
       "1  3.40  1050  \n",
       "2  3.17  1185  \n",
       "3  3.45  1480  \n",
       "4  2.93   735  "
      ]
     },
     "execution_count": 2,
     "metadata": {},
     "output_type": "execute_result"
    }
   ],
   "source": [
    "df = pd.read_csv(\"/home/abishai/Documents/ANN_Research/bio/WaterCycle/wine.csv\")\n",
    "\n",
    "df.head()"
   ]
  },
  {
   "cell_type": "code",
   "execution_count": 3,
   "metadata": {},
   "outputs": [],
   "source": [
    "import pandas as pd\n",
    "from sklearn import preprocessing\n",
    "\n",
    "x = df.values #returns a numpy array\n",
    "min_max_scaler = preprocessing.MinMaxScaler()\n",
    "x_scaled = min_max_scaler.fit_transform(x)\n",
    "df2 = pd.DataFrame(x_scaled)\n",
    "df2.head()\n",
    "df = df2"
   ]
  },
  {
   "cell_type": "code",
   "execution_count": 4,
   "metadata": {},
   "outputs": [
    {
     "data": {
      "text/plain": [
       "[1, 2, 3, 4, 5, 6, 7, 8, 9, 10, 11, 12, 13]"
      ]
     },
     "execution_count": 4,
     "metadata": {},
     "output_type": "execute_result"
    }
   ],
   "source": [
    "input_cols = list(df.columns)[1:]\n",
    "input_cols"
   ]
  },
  {
   "cell_type": "code",
   "execution_count": 5,
   "metadata": {},
   "outputs": [
    {
     "data": {
      "text/plain": [
       "[0]"
      ]
     },
     "execution_count": 5,
     "metadata": {},
     "output_type": "execute_result"
    }
   ],
   "source": [
    "output_cols = [0]\n",
    "output_cols"
   ]
  },
  {
   "cell_type": "code",
   "execution_count": 6,
   "metadata": {},
   "outputs": [
    {
     "data": {
      "text/plain": [
       "count    178.000000\n",
       "mean       0.469101\n",
       "std        0.387517\n",
       "min        0.000000\n",
       "25%        0.000000\n",
       "50%        0.500000\n",
       "75%        1.000000\n",
       "max        1.000000\n",
       "Name: 0, dtype: float64"
      ]
     },
     "execution_count": 6,
     "metadata": {},
     "output_type": "execute_result"
    }
   ],
   "source": [
    "df[0].describe()"
   ]
  },
  {
   "cell_type": "code",
   "execution_count": 7,
   "metadata": {},
   "outputs": [],
   "source": [
    "def dataframe_to_arrays(df):\n",
    "    # Make a copy of the original dataframe\n",
    "    df1 = df.copy(deep=True)\n",
    "    # Extract input & outupts as numpy arrays\n",
    "    inputs_array = df1[input_cols].to_numpy()\n",
    "    targets_array = df1[output_cols].to_numpy()\n",
    "    return inputs_array, targets_array"
   ]
  },
  {
   "cell_type": "code",
   "execution_count": 8,
   "metadata": {},
   "outputs": [
    {
     "data": {
      "text/plain": [
       "(array([[0.84210526, 0.1916996 , 0.57219251, ..., 0.45528455, 0.97069597,\n",
       "         0.56134094],\n",
       "        [0.57105263, 0.2055336 , 0.4171123 , ..., 0.46341463, 0.78021978,\n",
       "         0.55064194],\n",
       "        [0.56052632, 0.3201581 , 0.70053476, ..., 0.44715447, 0.6959707 ,\n",
       "         0.64693295],\n",
       "        ...,\n",
       "        [0.58947368, 0.69960474, 0.48128342, ..., 0.08943089, 0.10622711,\n",
       "         0.39728959],\n",
       "        [0.56315789, 0.36561265, 0.54010695, ..., 0.09756098, 0.12820513,\n",
       "         0.40085592],\n",
       "        [0.81578947, 0.66403162, 0.73796791, ..., 0.10569106, 0.12087912,\n",
       "         0.20114123]]),\n",
       " array([[0. ],\n",
       "        [0. ],\n",
       "        [0. ],\n",
       "        [0. ],\n",
       "        [0. ],\n",
       "        [0. ],\n",
       "        [0. ],\n",
       "        [0. ],\n",
       "        [0. ],\n",
       "        [0. ],\n",
       "        [0. ],\n",
       "        [0. ],\n",
       "        [0. ],\n",
       "        [0. ],\n",
       "        [0. ],\n",
       "        [0. ],\n",
       "        [0. ],\n",
       "        [0. ],\n",
       "        [0. ],\n",
       "        [0. ],\n",
       "        [0. ],\n",
       "        [0. ],\n",
       "        [0. ],\n",
       "        [0. ],\n",
       "        [0. ],\n",
       "        [0. ],\n",
       "        [0. ],\n",
       "        [0. ],\n",
       "        [0. ],\n",
       "        [0. ],\n",
       "        [0. ],\n",
       "        [0. ],\n",
       "        [0. ],\n",
       "        [0. ],\n",
       "        [0. ],\n",
       "        [0. ],\n",
       "        [0. ],\n",
       "        [0. ],\n",
       "        [0. ],\n",
       "        [0. ],\n",
       "        [0. ],\n",
       "        [0. ],\n",
       "        [0. ],\n",
       "        [0. ],\n",
       "        [0. ],\n",
       "        [0. ],\n",
       "        [0. ],\n",
       "        [0. ],\n",
       "        [0. ],\n",
       "        [0. ],\n",
       "        [0. ],\n",
       "        [0. ],\n",
       "        [0. ],\n",
       "        [0. ],\n",
       "        [0. ],\n",
       "        [0. ],\n",
       "        [0. ],\n",
       "        [0. ],\n",
       "        [0. ],\n",
       "        [0.5],\n",
       "        [0.5],\n",
       "        [0.5],\n",
       "        [0.5],\n",
       "        [0.5],\n",
       "        [0.5],\n",
       "        [0.5],\n",
       "        [0.5],\n",
       "        [0.5],\n",
       "        [0.5],\n",
       "        [0.5],\n",
       "        [0.5],\n",
       "        [0.5],\n",
       "        [0.5],\n",
       "        [0.5],\n",
       "        [0.5],\n",
       "        [0.5],\n",
       "        [0.5],\n",
       "        [0.5],\n",
       "        [0.5],\n",
       "        [0.5],\n",
       "        [0.5],\n",
       "        [0.5],\n",
       "        [0.5],\n",
       "        [0.5],\n",
       "        [0.5],\n",
       "        [0.5],\n",
       "        [0.5],\n",
       "        [0.5],\n",
       "        [0.5],\n",
       "        [0.5],\n",
       "        [0.5],\n",
       "        [0.5],\n",
       "        [0.5],\n",
       "        [0.5],\n",
       "        [0.5],\n",
       "        [0.5],\n",
       "        [0.5],\n",
       "        [0.5],\n",
       "        [0.5],\n",
       "        [0.5],\n",
       "        [0.5],\n",
       "        [0.5],\n",
       "        [0.5],\n",
       "        [0.5],\n",
       "        [0.5],\n",
       "        [0.5],\n",
       "        [0.5],\n",
       "        [0.5],\n",
       "        [0.5],\n",
       "        [0.5],\n",
       "        [0.5],\n",
       "        [0.5],\n",
       "        [0.5],\n",
       "        [0.5],\n",
       "        [0.5],\n",
       "        [0.5],\n",
       "        [0.5],\n",
       "        [0.5],\n",
       "        [0.5],\n",
       "        [0.5],\n",
       "        [0.5],\n",
       "        [0.5],\n",
       "        [0.5],\n",
       "        [0.5],\n",
       "        [0.5],\n",
       "        [0.5],\n",
       "        [0.5],\n",
       "        [0.5],\n",
       "        [0.5],\n",
       "        [0.5],\n",
       "        [1. ],\n",
       "        [1. ],\n",
       "        [1. ],\n",
       "        [1. ],\n",
       "        [1. ],\n",
       "        [1. ],\n",
       "        [1. ],\n",
       "        [1. ],\n",
       "        [1. ],\n",
       "        [1. ],\n",
       "        [1. ],\n",
       "        [1. ],\n",
       "        [1. ],\n",
       "        [1. ],\n",
       "        [1. ],\n",
       "        [1. ],\n",
       "        [1. ],\n",
       "        [1. ],\n",
       "        [1. ],\n",
       "        [1. ],\n",
       "        [1. ],\n",
       "        [1. ],\n",
       "        [1. ],\n",
       "        [1. ],\n",
       "        [1. ],\n",
       "        [1. ],\n",
       "        [1. ],\n",
       "        [1. ],\n",
       "        [1. ],\n",
       "        [1. ],\n",
       "        [1. ],\n",
       "        [1. ],\n",
       "        [1. ],\n",
       "        [1. ],\n",
       "        [1. ],\n",
       "        [1. ],\n",
       "        [1. ],\n",
       "        [1. ],\n",
       "        [1. ],\n",
       "        [1. ],\n",
       "        [1. ],\n",
       "        [1. ],\n",
       "        [1. ],\n",
       "        [1. ],\n",
       "        [1. ],\n",
       "        [1. ],\n",
       "        [1. ],\n",
       "        [1. ]]))"
      ]
     },
     "execution_count": 8,
     "metadata": {},
     "output_type": "execute_result"
    }
   ],
   "source": [
    "inputs_array, targets_array = dataframe_to_arrays(df)\n",
    "inputs_array, targets_array"
   ]
  },
  {
   "cell_type": "code",
   "execution_count": 9,
   "metadata": {},
   "outputs": [],
   "source": [
    "import torch\n",
    "inputs = torch.Tensor(inputs_array)\n",
    "targets = torch.Tensor(targets_array)"
   ]
  },
  {
   "cell_type": "code",
   "execution_count": 10,
   "metadata": {},
   "outputs": [],
   "source": [
    "from torch.utils.data import DataLoader, TensorDataset, random_split\n",
    "dataset = TensorDataset(inputs, targets)"
   ]
  },
  {
   "cell_type": "code",
   "execution_count": 11,
   "metadata": {},
   "outputs": [],
   "source": [
    "num_rows = len(df)\n",
    "val_percent = 0.1 # between 0.1 and 0.2\n",
    "val_size = int(num_rows * val_percent)\n",
    "train_size = num_rows - val_size\n",
    "\n",
    "\n",
    "train_df, val_df = random_split(dataset, [train_size, val_size]) "
   ]
  },
  {
   "cell_type": "code",
   "execution_count": 12,
   "metadata": {},
   "outputs": [],
   "source": [
    "batch_size = 50"
   ]
  },
  {
   "cell_type": "code",
   "execution_count": 13,
   "metadata": {},
   "outputs": [],
   "source": [
    "train_loader = DataLoader(train_df, batch_size, shuffle=True)\n",
    "val_loader = DataLoader(val_df, batch_size)"
   ]
  },
  {
   "cell_type": "code",
   "execution_count": 14,
   "metadata": {},
   "outputs": [
    {
     "name": "stdout",
     "output_type": "stream",
     "text": [
      "13\n",
      "1\n"
     ]
    }
   ],
   "source": [
    "input_size = len(input_cols)\n",
    "output_size = 1\n",
    "print(input_size)\n",
    "print(output_size)"
   ]
  },
  {
   "cell_type": "code",
   "execution_count": 15,
   "metadata": {},
   "outputs": [],
   "source": [
    "import torch.nn as nn\n",
    "import torch.nn.functional as F\n",
    "class WineModel(nn.Module):\n",
    "    def __init__(self):\n",
    "        super().__init__()     \n",
    "        self.fc1 = nn.Linear(input_size, 10)\n",
    "        self.fc2 = nn.Linear(10,output_size)\n",
    "        # fill this (hint: use input_size & output_size defined above)\n",
    "        #model initialized with random weight\n",
    "\n",
    "    def forward(self, xb):\n",
    "        xb = F.relu(self.fc1(xb))\n",
    "        out = self.fc2(xb)             # batch wise forwarding\n",
    "        return out\n",
    "    \n",
    "    def training_step(self, batch):\n",
    "        inputs, targets = batch \n",
    "        # Generate predictions\n",
    "        out = self(inputs)         \n",
    "        # Calcuate loss\n",
    "        loss = F.l1_loss(out, targets)  # batch wise training step and loss\n",
    "        return loss\n",
    "    \n",
    "    def validation_step(self, batch):\n",
    "        inputs, targets = batch\n",
    "        # Generate predictions\n",
    "        out = self(inputs)\n",
    "        # Calculate loss\n",
    "        loss =F.l1_loss(out, targets)       # batch wise validation and loss    \n",
    "        return {'val_loss': loss.detach()}\n",
    "        \n",
    "    def validation_epoch_end(self, outputs):\n",
    "        batch_losses = [x['val_loss'] for x in outputs]\n",
    "        epoch_loss = torch.stack(batch_losses).mean()   # Combine val losses of all batches as average\n",
    "        return {'val_loss': epoch_loss.item()}\n",
    "    \n",
    "    def epoch_end(self, epoch, result, num_epochs):\n",
    "        # Print result every 20th epoch\n",
    "        if (epoch+1) % 500 == 0 or epoch == num_epochs-1:\n",
    "            print(\"Epoch [{}], val_loss: {:.4f}\".format(epoch+1, result['val_loss']))"
   ]
  },
  {
   "cell_type": "code",
   "execution_count": 16,
   "metadata": {},
   "outputs": [],
   "source": [
    "def evaluate2(model, val_loader):\n",
    "    outputs = [model.validation_step(batch) for batch in val_loader]\n",
    "    return model.validation_epoch_end(outputs)\n",
    "\n",
    "def fit(epochs, lr, model, train_loader, val_loader, opt_func=torch.optim.SGD):\n",
    "    lr,\n",
    "    model,\n",
    "    train_loader,\n",
    "    history = []\n",
    "    optimizer = opt_func(model.parameters(), lr)\n",
    "    for epoch in range(epochs):\n",
    "        # Training Phase \n",
    "        for batch in train_loader:\n",
    "            loss = model.training_step(batch)\n",
    "            loss.backward()\n",
    "            optimizer.step()\n",
    "            optimizer.zero_grad()\n",
    "        # Validation phase\n",
    "        result = evaluate2(model, val_loader)\n",
    "        model.epoch_end(epoch, result, epochs)\n",
    "        history.append(result)  #appends total validation loss of whole validation set epoch wise\n",
    "    return history"
   ]
  },
  {
   "cell_type": "code",
   "execution_count": 17,
   "metadata": {},
   "outputs": [
    {
     "name": "stdout",
     "output_type": "stream",
     "text": [
      "{'val_loss': 0.8849727511405945}\n"
     ]
    }
   ],
   "source": [
    "model =  WineModel()\n",
    "result = evaluate2(model,val_loader) # Use the the evaluate function\n",
    "print(result)"
   ]
  },
  {
   "cell_type": "code",
   "execution_count": 18,
   "metadata": {},
   "outputs": [],
   "source": [
    "def predict_single(input, target, model):\n",
    "    inputs = input.unsqueeze(0) \n",
    "    predictions = model(inputs)\n",
    "    prediction = predictions[0].detach()\n",
    "    print(\"Input:\", input)\n",
    "    print(\"Target:\", target)\n",
    "    print(\"Prediction:\", prediction)"
   ]
  },
  {
   "cell_type": "code",
   "execution_count": 19,
   "metadata": {},
   "outputs": [
    {
     "name": "stdout",
     "output_type": "stream",
     "text": [
      "Input: tensor([0.6211, 0.2036, 0.6738, 0.2835, 0.2500, 0.6448, 0.5485, 0.3962, 0.3281,\n",
      "        0.3003, 0.3577, 0.7143, 0.6541])\n",
      "Target: tensor([0.])\n",
      "Prediction: tensor([-0.3783])\n"
     ]
    }
   ],
   "source": [
    "input, target = val_df[0]\n",
    "predict_single(input, target, model)"
   ]
  },
  {
   "cell_type": "code",
   "execution_count": 20,
   "metadata": {},
   "outputs": [
    {
     "name": "stdout",
     "output_type": "stream",
     "text": [
      "Epoch [500], val_loss: 0.1126\n",
      "Epoch [1000], val_loss: 0.0912\n",
      "Epoch [1500], val_loss: 0.0875\n",
      "Epoch [2000], val_loss: 0.0866\n",
      "Epoch [2500], val_loss: 0.0814\n",
      "Epoch [3000], val_loss: 0.0768\n",
      "Epoch [3500], val_loss: 0.0703\n",
      "Epoch [4000], val_loss: 0.0619\n",
      "Epoch [4500], val_loss: 0.0556\n",
      "Epoch [5000], val_loss: 0.0591\n",
      "Epoch [5500], val_loss: 0.0603\n",
      "Epoch [6000], val_loss: 0.0580\n",
      "Epoch [6500], val_loss: 0.0710\n",
      "Epoch [7000], val_loss: 0.0672\n",
      "Epoch [7500], val_loss: 0.0701\n",
      "Epoch [8000], val_loss: 0.0603\n",
      "Epoch [8500], val_loss: 0.0637\n",
      "Epoch [9000], val_loss: 0.0693\n"
     ]
    }
   ],
   "source": [
    "epochs = 9000\n",
    "lr = 1e-2\n",
    "history5 = fit(epochs, lr, model, train_loader, val_loader)"
   ]
  },
  {
   "cell_type": "code",
   "execution_count": 21,
   "metadata": {},
   "outputs": [
    {
     "name": "stdout",
     "output_type": "stream",
     "text": [
      "Input: tensor([0.4395, 0.5553, 0.5348, 0.5619, 0.3913, 0.2483, 0.1814, 0.0755, 0.1356,\n",
      "        0.3174, 0.2439, 0.0073, 0.2297])\n",
      "Target: tensor([1.])\n",
      "Prediction: tensor([0.8687])\n"
     ]
    }
   ],
   "source": [
    "input, target = val_df[1]\n",
    "predict_single(input, target, model)"
   ]
  },
  {
   "cell_type": "code",
   "execution_count": 22,
   "metadata": {},
   "outputs": [],
   "source": [
    "def predict_right(input, target, model):\n",
    "    inputs = input.unsqueeze(0)\n",
    "    predictions = model(inputs)#???                # fill this\n",
    "    prediction = predictions[0].detach()\n",
    "    if abs(prediction - target) < 0.25:\n",
    "        return 1\n",
    "    else:\n",
    "        return 0"
   ]
  },
  {
   "cell_type": "code",
   "execution_count": 23,
   "metadata": {},
   "outputs": [],
   "source": [
    "results = []\n",
    "for i in range(0,len(val_df)):\n",
    "    input, target = val_df[i]\n",
    "    results.append(predict_right(input, target, model))"
   ]
  },
  {
   "cell_type": "code",
   "execution_count": 24,
   "metadata": {},
   "outputs": [],
   "source": [
    "count = 0\n",
    "for i in results:\n",
    "    if i == 1:\n",
    "        count+=1"
   ]
  },
  {
   "cell_type": "code",
   "execution_count": 25,
   "metadata": {},
   "outputs": [
    {
     "data": {
      "text/plain": [
       "[1, 1, 1, 1, 1, 1, 1, 1, 1, 1, 1, 1, 1, 1, 1, 1, 1]"
      ]
     },
     "execution_count": 25,
     "metadata": {},
     "output_type": "execute_result"
    }
   ],
   "source": [
    "results"
   ]
  },
  {
   "cell_type": "code",
   "execution_count": 26,
   "metadata": {},
   "outputs": [
    {
     "data": {
      "text/plain": [
       "17"
      ]
     },
     "execution_count": 26,
     "metadata": {},
     "output_type": "execute_result"
    }
   ],
   "source": [
    "count"
   ]
  },
  {
   "cell_type": "code",
   "execution_count": 27,
   "metadata": {},
   "outputs": [
    {
     "data": {
      "text/plain": [
       "17"
      ]
     },
     "execution_count": 27,
     "metadata": {},
     "output_type": "execute_result"
    }
   ],
   "source": [
    "len(val_df)"
   ]
  },
  {
   "cell_type": "code",
   "execution_count": 28,
   "metadata": {},
   "outputs": [
    {
     "data": {
      "text/plain": [
       "1.0"
      ]
     },
     "execution_count": 28,
     "metadata": {},
     "output_type": "execute_result"
    }
   ],
   "source": [
    "count/len(val_df)#accuracy"
   ]
  },
  {
   "cell_type": "code",
   "execution_count": 29,
   "metadata": {},
   "outputs": [
    {
     "data": {
      "image/png": "[encoded data removed]",
      "text/plain": [
       "<Figure size 432x288 with 1 Axes>"
      ]
     },
     "metadata": {
      "needs_background": "light"
     },
     "output_type": "display_data"
    }
   ],
   "source": [
    "plt.title('val_loss vs. No. of epochs');\n",
    "loss_mat = [res['val_loss'] for res in [result] + history5]\n",
    "plt.plot(loss_mat, '-x')\n",
    "plt.xlabel('epoch')\n",
    "plt.ylabel('val_loss')\n",
    "\n",
    "val_loss = loss_mat[-1]"
   ]
  },
  {
   "cell_type": "code",
   "execution_count": null,
   "metadata": {},
   "outputs": [],
   "source": []
  }
 ],
 "metadata": {
  "kernelspec": {
   "display_name": "Python 3.8.5 64-bit",
   "language": "python",
   "name": "python38564bitee90aa3ac2fb4953b8d17317969debac"
  },
  "language_info": {
   "codemirror_mode": {
    "name": "ipython",
    "version": 3
   },
   "file_extension": ".py",
   "mimetype": "text/x-python",
   "name": "python",
   "nbconvert_exporter": "python",
   "pygments_lexer": "ipython3",
   "version": "3.8.5"
  }
 },
 "nbformat": 4,
 "nbformat_minor": 4
}
